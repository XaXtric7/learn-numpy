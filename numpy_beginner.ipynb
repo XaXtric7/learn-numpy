{
 "cells": [
  {
   "cell_type": "markdown",
   "id": "adecbfd8",
   "metadata": {},
   "source": [
    "# Getting started with the Numpy"
   ]
  },
  {
   "cell_type": "markdown",
   "id": "5eeb6e83",
   "metadata": {},
   "source": [
    "<h3>-> How to import Numpy?</h3>"
   ]
  },
  {
   "cell_type": "code",
   "execution_count": 2,
   "id": "8101c84f",
   "metadata": {},
   "outputs": [],
   "source": [
    "import numpy as np  "
   ]
  },
  {
   "cell_type": "code",
   "execution_count": 3,
   "id": "0e7aa1a4",
   "metadata": {},
   "outputs": [
    {
     "name": "stdout",
     "output_type": "stream",
     "text": [
      "(2, 3)\n"
     ]
    }
   ],
   "source": [
    "a = np.array([[1, 2, 3], [4, 5, 6]])\n",
    "print(a.shape)"
   ]
  },
  {
   "cell_type": "markdown",
   "id": "4aba8557",
   "metadata": {},
   "source": [
    "<h3>-> Why use Numpy?</h3>\n",
    "\n",
    "We use NumPy because it's much faster and more memory-efficient than Python lists when dealing with large amounts of same-type (homogeneous) data. It also provides powerful functions for numerical operations, making data processing easier and faster.\n",
    "\n",
    "👉 Use Python lists for small, mixed-type data.\n",
    "\n",
    "👉 Use NumPy arrays for large, numerical, same-type data."
   ]
  },
  {
   "cell_type": "markdown",
   "id": "4e874be6",
   "metadata": {},
   "source": [
    "<h3>-> Use of NumPy Arrays (ndarray)</h3>\n",
    "\n",
    "✅ Short Explanation: Use of NumPy Arrays (ndarray)\n",
    "NumPy arrays are used for efficient storage and computation of large sets of same-type (homogeneous) data in multiple dimensions (1D, 2D, 3D, etc.). They're ideal for numerical operations like matrix math, data processing, simulations, and more.\n",
    "\n",
    "🚫 Restrictions of NumPy Arrays\n",
    "Same Data Type\n",
    "→ All elements must be of the same type (e.g., all integers or all floats).\n",
    "\n",
    "Fixed Size\n",
    "→ Once created, the total number of elements can’t change.\n",
    "\n",
    "Rectangular Shape\n",
    "→ All rows must have the same number of columns (no jagged or uneven rows)."
   ]
  },
  {
   "cell_type": "code",
   "execution_count": 4,
   "id": "bf1dc3bd",
   "metadata": {},
   "outputs": [
    {
     "name": "stdout",
     "output_type": "stream",
     "text": [
      "The matrice is of (3, 3) order\n",
      "The matrice is: \n",
      "[[1 2 3]\n",
      " [4 5 6]\n",
      " [7 8 9]]\n"
     ]
    }
   ],
   "source": [
    "a = np.array([[1, 2, 3], [4, 5, 6], [7, 8, 9]])\n",
    "print(f\"The matrice is of {a.shape} order\")\n",
    "print(f\"The matrice is: \\n{a}\")"
   ]
  },
  {
   "cell_type": "markdown",
   "id": "5b31a482",
   "metadata": {},
   "source": [
    "-> arrays are mutable and slicing is possible in Numpy (py)"
   ]
  },
  {
   "cell_type": "code",
   "execution_count": 5,
   "id": "97f0b117",
   "metadata": {},
   "outputs": [
    {
     "name": "stdout",
     "output_type": "stream",
     "text": [
      "a after slicing: [[15  2  3  4  5  6]]\n",
      "b after slicing: [ 7 80  9]\n"
     ]
    }
   ],
   "source": [
    "a = np.array([[1, 2, 3, 4, 5, 6], [10, 20, 30, 40, 50, 60]])\n",
    "b = np.array([7, 8, 9, 10, 11, 12])\n",
    "\n",
    "a[0][0] = 15\n",
    "b[1] = 80 # mutability\n",
    "\n",
    "print(f\"a after slicing: {a[:1]}\")\n",
    "print(f\"b after slicing: {b[:3]}\") #slicing\n",
    "\n"
   ]
  },
  {
   "cell_type": "markdown",
   "id": "64486dc0",
   "metadata": {},
   "source": [
    "<h3>Array Attributes</h3>\n",
    "\n",
    "This section covers the ndim, shape, size, and dtype attributes of an array."
   ]
  },
  {
   "cell_type": "code",
   "execution_count": 6,
   "id": "e1acda28",
   "metadata": {},
   "outputs": [
    {
     "name": "stdout",
     "output_type": "stream",
     "text": [
      "[[15  2  3  4  5  6]\n",
      " [10 20 30 40 50 60]]\n",
      "It is a 2D array\n"
     ]
    }
   ],
   "source": [
    "# The number of dimensions of an array is contained in the ndim attribute.\n",
    "print(a)\n",
    "print(f\"It is a {a.ndim}D array\")"
   ]
  },
  {
   "cell_type": "code",
   "execution_count": 7,
   "id": "aa79d5e9",
   "metadata": {},
   "outputs": [
    {
     "name": "stdout",
     "output_type": "stream",
     "text": [
      "(2, 6)\n"
     ]
    }
   ],
   "source": [
    "# The shape of an array is a tuple of non-negative integers that specify the number of elements along each dimension.\n",
    "print(a.shape)"
   ]
  },
  {
   "cell_type": "code",
   "execution_count": 8,
   "id": "a4095655",
   "metadata": {},
   "outputs": [
    {
     "name": "stdout",
     "output_type": "stream",
     "text": [
      "number of elements in a is 12\n"
     ]
    },
    {
     "data": {
      "text/plain": [
       "True"
      ]
     },
     "execution_count": 8,
     "metadata": {},
     "output_type": "execute_result"
    }
   ],
   "source": [
    "# The fixed, total number of elements in array is contained in the size attribute.\n",
    "print(f\"number of elements in a is {a.size}\")\n",
    "import math\n",
    "a.size == math.prod(a.shape) # no. of rows * no. of columns"
   ]
  },
  {
   "cell_type": "code",
   "execution_count": 9,
   "id": "778e7311",
   "metadata": {},
   "outputs": [
    {
     "name": "stdout",
     "output_type": "stream",
     "text": [
      "int64\n"
     ]
    }
   ],
   "source": [
    "print(a.dtype) # # \"int\" for integer, \"64\" for 64-bit"
   ]
  },
  {
   "cell_type": "markdown",
   "id": "7722aecd",
   "metadata": {},
   "source": [
    "<h3>How to create a basic array</h3>\n",
    "\n",
    "This section covers np.zeros(), np.ones(), np.empty(), np.arange(), np.linspace()\n",
    "\n",
    "-> np.zeros() creates an array filled with 0's<br>\n",
    "-> np.ones() creates an array filled with 1's<br>\n",
    "-> np.empty() creates an array filled with random float values (increses speed!)"
   ]
  },
  {
   "cell_type": "code",
   "execution_count": 10,
   "id": "c5952949",
   "metadata": {},
   "outputs": [
    {
     "name": "stdout",
     "output_type": "stream",
     "text": [
      "normal array: [1 2 3]\n",
      "array with zeros: [0. 0. 0.]\n",
      "array with ones: [1. 1. 1.]\n",
      "array with rand.vals: [0. 0. 0.]\n"
     ]
    }
   ],
   "source": [
    "c = np.array([1,2,3])\n",
    "d = np.zeros(3)\n",
    "e = np.ones(3)\n",
    "f = np.empty(3)\n",
    "print(f\"normal array: {c}\")\n",
    "print(f\"array with zeros: {d}\")\n",
    "print(f\"array with ones: {e}\")\n",
    "print(f\"array with rand.vals: {f}\")"
   ]
  },
  {
   "cell_type": "code",
   "execution_count": 11,
   "id": "694bdb8f",
   "metadata": {},
   "outputs": [
    {
     "name": "stdout",
     "output_type": "stream",
     "text": [
      "[0 1 2 3]\n",
      "[2 4 6 8]\n",
      "[ 0.  2.  4.  6.  8. 10.]\n"
     ]
    }
   ],
   "source": [
    "c = np.arange(4)\n",
    "print(c)\n",
    "c = np.arange(2, 9, 2) # arrange(start, stop, step)\n",
    "print(c)\n",
    "c = np.linspace(0, 10, num=6)\n",
    "# starts from 0 and ends with 10 divinding the array in 6 elements evenly\n",
    "print(c)"
   ]
  },
  {
   "cell_type": "markdown",
   "id": "e3299683",
   "metadata": {},
   "source": [
    "-> Specifying your data type"
   ]
  },
  {
   "cell_type": "code",
   "execution_count": 12,
   "id": "e4cb4abc",
   "metadata": {},
   "outputs": [
    {
     "name": "stdout",
     "output_type": "stream",
     "text": [
      "[1 1]\n"
     ]
    }
   ],
   "source": [
    "x = np.ones(2, dtype=np.int64)\n",
    "print(x)"
   ]
  },
  {
   "cell_type": "markdown",
   "id": "f4f9e540",
   "metadata": {},
   "source": [
    "<h3>Adding, removing, and sorting elements</h3>\n",
    "\n",
    "This section covers np.sort(), np.concatenate()"
   ]
  },
  {
   "cell_type": "code",
   "execution_count": 13,
   "id": "40463294",
   "metadata": {},
   "outputs": [
    {
     "name": "stdout",
     "output_type": "stream",
     "text": [
      "sorted array: [1 2 3 4 5 6 7 8]\n",
      "original array: [2 1 5 3 7 4 6 8]\n"
     ]
    }
   ],
   "source": [
    "arr = np.array([2, 1, 5, 3, 7, 4, 6, 8])\n",
    "print(f\"sorted array: {np.sort(arr)}\")\n",
    "print(f\"original array: {arr}\") # sort the copy of the original array"
   ]
  },
  {
   "cell_type": "markdown",
   "id": "88a8a1f4",
   "metadata": {},
   "source": [
    "-> argsort: returns indices that would sort an array (indirect sort)<br>\n",
    "-> lexsort: performs a stable sort using multiple keys (e.g., sort by last name, then first)<br>\n",
    "-> searchsorted: finds indices where elements should be inserted to maintain sorted order<br>\n",
    "-> partition: partially sorts array so that k-th element is in its final sorted position\n"
   ]
  },
  {
   "cell_type": "code",
   "execution_count": 14,
   "id": "2581b52e",
   "metadata": {},
   "outputs": [
    {
     "name": "stdout",
     "output_type": "stream",
     "text": [
      "The merged array: [1 2 3 4 5 6 7 8]\n",
      "[[1 2]\n",
      " [3 4]\n",
      " [5 6]]\n"
     ]
    }
   ],
   "source": [
    "a = np.array([1, 2, 3, 4])\n",
    "b = np.array([5, 6, 7, 8])\n",
    "\n",
    "print(f\"The merged array: {np.concatenate((a, b))}\")\n",
    "\n",
    "x = np.array([[1, 2], [3, 4]])\n",
    "y = np.array([[5, 6]])\n",
    "\n",
    "print(np.concatenate((x, y), axis=0))"
   ]
  },
  {
   "cell_type": "markdown",
   "id": "24e1d931",
   "metadata": {},
   "source": [
    "<h3>How do you know the shape and size of an array?</h3>"
   ]
  },
  {
   "cell_type": "code",
   "execution_count": 15,
   "id": "16d74ef9",
   "metadata": {},
   "outputs": [
    {
     "name": "stdout",
     "output_type": "stream",
     "text": [
      "[[[0 1 2 3]\n",
      "  [4 5 6 7]]\n",
      "\n",
      " [[0 1 2 3]\n",
      "  [4 5 6 7]]\n",
      "\n",
      " [[0 1 2 3]\n",
      "  [4 5 6 7]]]\n",
      "24\n",
      "(3, 2, 4)\n"
     ]
    }
   ],
   "source": [
    "# A 3D Array\n",
    "array_example = np.array([[[0, 1, 2, 3],\n",
    "                           [4, 5, 6, 7]],\n",
    "\n",
    "                          [[0, 1, 2, 3],\n",
    "                           [4, 5, 6, 7]], \n",
    "\n",
    "                          [[0 ,1 ,2, 3],\n",
    "                           [4, 5, 6, 7]]])\n",
    "\n",
    "print(array_example)\n",
    "print(array_example.size) # no. of elements\n",
    "print(array_example.shape) # You have 3 boxes, each box contains 2 rows, and each row has 4 values."
   ]
  },
  {
   "cell_type": "markdown",
   "id": "63c39e00",
   "metadata": {},
   "source": [
    "<h3>Can you reshape an array?</h3>"
   ]
  },
  {
   "cell_type": "code",
   "execution_count": 16,
   "id": "f4059c46",
   "metadata": {},
   "outputs": [
    {
     "name": "stdout",
     "output_type": "stream",
     "text": [
      "[0 1 2 3 4 5]\n",
      "[[0 1]\n",
      " [2 3]\n",
      " [4 5]]\n"
     ]
    },
    {
     "data": {
      "text/plain": [
       "array([[0, 1, 2],\n",
       "       [3, 4, 5]])"
      ]
     },
     "execution_count": 16,
     "metadata": {},
     "output_type": "execute_result"
    }
   ],
   "source": [
    "a = np.arange(6)\n",
    "print(a)\n",
    "b = a.reshape(3, 2)\n",
    "print(b)\n",
    "np.reshape(a, shape=(2, 3), order='C')"
   ]
  },
  {
   "cell_type": "markdown",
   "id": "ea9c6bf1",
   "metadata": {},
   "source": [
    "<h3>how to add a new axis to an array</h3>\n",
    "You can use np.newaxis and np.expand_dims to increase the dimensions of your existing array.\n",
    "\n",
    "Using np.newaxis will increase the dimensions of your array by one dimension when used once. This means that a 1D array will become a 2D array, a 2D array will become a 3D array, and so on."
   ]
  },
  {
   "cell_type": "code",
   "execution_count": 17,
   "id": "b6654bc9",
   "metadata": {},
   "outputs": [
    {
     "name": "stdout",
     "output_type": "stream",
     "text": [
      "(6,)\n",
      "(1, 6)\n"
     ]
    },
    {
     "data": {
      "text/plain": [
       "(6, 1)"
      ]
     },
     "execution_count": 17,
     "metadata": {},
     "output_type": "execute_result"
    }
   ],
   "source": [
    "a = np.array([1, 2, 3, 4, 5, 6])\n",
    "print(a.shape)\n",
    "a2 = a[np.newaxis, :]\n",
    "print(a2.shape)\n",
    "\n",
    "# You can use np.expand_dims to add an axis at index position 1 with:\n",
    "b = np.expand_dims(a, axis=1)\n",
    "b.shape"
   ]
  },
  {
   "cell_type": "markdown",
   "id": "876cbf35",
   "metadata": {},
   "source": [
    "<h3>Indexing and slicing</h3>"
   ]
  },
  {
   "cell_type": "code",
   "execution_count": 18,
   "id": "975c91af",
   "metadata": {},
   "outputs": [
    {
     "name": "stdout",
     "output_type": "stream",
     "text": [
      "2\n",
      "[1 2]\n",
      "[2 3]\n",
      "[2 3]\n"
     ]
    }
   ],
   "source": [
    "data = np.array([1, 2, 3])\n",
    "print(data[1])\n",
    "print(data[0:2])\n",
    "print(data[1:])\n",
    "print(data[-2:])"
   ]
  },
  {
   "cell_type": "code",
   "execution_count": 19,
   "id": "ef6a9977",
   "metadata": {},
   "outputs": [
    {
     "name": "stdout",
     "output_type": "stream",
     "text": [
      "[1 2 3 4]\n",
      "[ 5  6  7  8  9 10 11 12]\n",
      "[ 2  4  6  8 10 12]\n",
      "[ 3  4  5  6  7  8  9 10]\n",
      "[[False False False False]\n",
      " [ True  True  True  True]\n",
      " [ True  True  True  True]]\n"
     ]
    }
   ],
   "source": [
    "a = np.array([[1, 2, 3, 4], [5, 6, 7, 8], [9, 10, 11, 12]])\n",
    "print(a[a < 5])\n",
    "\n",
    "five_up = (a >= 5)\n",
    "print(a[five_up])\n",
    "\n",
    "divisible_by_2 = a[a%2==0]\n",
    "print(divisible_by_2)\n",
    "\n",
    "c = a[(a > 2) & (a < 11)]\n",
    "print(c)\n",
    "\n",
    "five_up = (a > 5) | (a == 5)\n",
    "print(five_up)"
   ]
  },
  {
   "cell_type": "markdown",
   "id": "2d675c23",
   "metadata": {},
   "source": [
    "<h3>How to create an array from existing data</h3>\n",
    "This section covers slicing and indexing, np.vstack(), np.hstack(), np.hsplit(), .view(), copy()"
   ]
  },
  {
   "cell_type": "code",
   "execution_count": 20,
   "id": "3192265d",
   "metadata": {},
   "outputs": [
    {
     "name": "stdout",
     "output_type": "stream",
     "text": [
      "[[1 1]\n",
      " [2 2]\n",
      " [3 3]\n",
      " [4 4]]\n",
      "[[1 1 3 3]\n",
      " [2 2 4 4]]\n"
     ]
    }
   ],
   "source": [
    "a1 = np.array([[1, 1],[2, 2]])\n",
    "a2 = np.array([[3, 3],[4, 4]])\n",
    "\n",
    "print(np.vstack((a1, a2))) # vertically stacked\n",
    "print(np.hstack((a1, a2))) # horizontal stacked "
   ]
  },
  {
   "cell_type": "code",
   "execution_count": 21,
   "id": "5083aa45",
   "metadata": {},
   "outputs": [
    {
     "name": "stdout",
     "output_type": "stream",
     "text": [
      "[[ 1  2  3  4  5  6  7  8  9 10 11 12]\n",
      " [13 14 15 16 17 18 19 20 21 22 23 24]]\n"
     ]
    }
   ],
   "source": [
    "x = np.arange(1, 25).reshape(2, 12) # arrange 1 to 25 and reshape the matrix\n",
    "print(x)"
   ]
  },
  {
   "cell_type": "code",
   "execution_count": 22,
   "id": "2c8343d1",
   "metadata": {},
   "outputs": [
    {
     "name": "stdout",
     "output_type": "stream",
     "text": [
      "[array([[ 1,  2,  3,  4],\n",
      "       [13, 14, 15, 16]]), array([[ 5,  6,  7,  8],\n",
      "       [17, 18, 19, 20]]), array([[ 9, 10, 11, 12],\n",
      "       [21, 22, 23, 24]])]\n",
      "[array([[ 1,  2,  3],\n",
      "       [13, 14, 15]]), array([[ 4],\n",
      "       [16]]), array([[ 5,  6,  7,  8,  9, 10, 11, 12],\n",
      "       [17, 18, 19, 20, 21, 22, 23, 24]])]\n"
     ]
    }
   ],
   "source": [
    "# If you wanted to split this array into three equally shaped arrays, you would run:\n",
    "print(np.hsplit(x, 3))\n",
    "\n",
    "# If you wanted to split your array after the third and fourth column, you’d run:\n",
    "print(np.hsplit(x, (3, 4)))"
   ]
  },
  {
   "cell_type": "markdown",
   "id": "2128e376",
   "metadata": {},
   "source": [
    "<h3>Basic array operations</h3>\n",
    "This section covers addition, subtraction, multiplication, division, and more"
   ]
  },
  {
   "cell_type": "code",
   "execution_count": 23,
   "id": "4c2f18db",
   "metadata": {},
   "outputs": [
    {
     "name": "stdout",
     "output_type": "stream",
     "text": [
      "data: [1 2]\n",
      "ones: [1 1]\n",
      "The sum is: [2 3]\n",
      "The diff is: [0 1]\n",
      "The product is: [1 4]\n",
      "The division is: [1. 1.]\n"
     ]
    }
   ],
   "source": [
    "data = np.array([1,2])\n",
    "ones = np.ones(2, dtype=int)\n",
    "print(f\"data: {data}\")\n",
    "print(f\"ones: {ones}\")\n",
    "\n",
    "print(f\"The sum is: {data + ones}\")\n",
    "print(f\"The diff is: {data - ones}\")\n",
    "print(f\"The product is: {data * data}\")\n",
    "print(f\"The division is: {data / data}\")"
   ]
  },
  {
   "cell_type": "code",
   "execution_count": 24,
   "id": "1a307571",
   "metadata": {},
   "outputs": [
    {
     "name": "stdout",
     "output_type": "stream",
     "text": [
      "The sum is: 10\n",
      "[3 3]\n",
      "[2 4]\n"
     ]
    }
   ],
   "source": [
    "a = np.array([1, 2, 3, 4])\n",
    "print(f\"The sum is: {a.sum()}\")\n",
    "\n",
    "b = np.array([[1, 1], [2, 2]])\n",
    "print(b.sum(axis=0)) # You can sum over the axis of rows with:\n",
    "print(b.sum(axis=1)) # You can sum over the axis of columns with:"
   ]
  },
  {
   "cell_type": "markdown",
   "id": "fe7c321a",
   "metadata": {},
   "source": [
    "<h3>Broadcasting</h3>"
   ]
  },
  {
   "cell_type": "code",
   "execution_count": 25,
   "id": "6fd2271a",
   "metadata": {},
   "outputs": [
    {
     "name": "stdout",
     "output_type": "stream",
     "text": [
      "[1.6 3.2]\n",
      "max element: 3\n",
      "min element: 1\n",
      "sum is: 6\n"
     ]
    }
   ],
   "source": [
    "data = np.array([1.0, 2.0])\n",
    "print(data*1.6)\n",
    "\n",
    "data = np.array([1,2,3])\n",
    "print(f\"max element: {data.max()}\")\n",
    "print(f\"min element: {data.min()}\")\n",
    "print(f\"sum is: {data.sum()}\")"
   ]
  },
  {
   "cell_type": "markdown",
   "id": "32ddffd2",
   "metadata": {},
   "source": [
    "for complex arrays...."
   ]
  },
  {
   "cell_type": "code",
   "execution_count": 26,
   "id": "22dc636f",
   "metadata": {},
   "outputs": [
    {
     "name": "stdout",
     "output_type": "stream",
     "text": [
      "The sum is: 4.8595784\n",
      "The min num is: 0.05093587\n",
      "The min num of each col. is: [0.12697628 0.05093587 0.26590556 0.5510652 ]\n"
     ]
    }
   ],
   "source": [
    "a = np.array([[0.45053314, 0.17296777, 0.34376245, 0.5510652],\n",
    "              [0.54627315, 0.05093587, 0.40067661, 0.55645993],\n",
    "              [0.12697628, 0.82485143, 0.26590556, 0.56917101]])\n",
    "print(f\"The sum is: {a.sum()}\")\n",
    "print(f\"The min num is: {a.min()}\")\n",
    "print(f\"The min num of each col. is: {a.min(axis=0)}\")"
   ]
  },
  {
   "cell_type": "markdown",
   "id": "131acb43",
   "metadata": {},
   "source": [
    "<h3>Creating matrices</h3>"
   ]
  },
  {
   "cell_type": "code",
   "execution_count": 29,
   "id": "1df70f97",
   "metadata": {},
   "outputs": [
    {
     "name": "stdout",
     "output_type": "stream",
     "text": [
      "[[1 2]\n",
      " [3 4]\n",
      " [5 6]]\n",
      "2\n",
      "[[3 4]\n",
      " [5 6]]\n",
      "[1 3]\n",
      "max element: 6\n",
      "min element: 1\n",
      "sum is: 21\n"
     ]
    }
   ],
   "source": [
    "data = np.array([[1, 2], [3, 4], [5, 6]])\n",
    "print(data)\n",
    "\n",
    "print(data[0, 1])\n",
    "print(data[1:3])\n",
    "print(data[0:2, 0])\n",
    "\n",
    "print(f\"max element: {data.max()}\")\n",
    "print(f\"min element: {data.min()}\")\n",
    "print(f\"sum is: {data.sum()}\")"
   ]
  },
  {
   "cell_type": "code",
   "execution_count": null,
   "id": "2115045e",
   "metadata": {},
   "outputs": [
    {
     "name": "stdout",
     "output_type": "stream",
     "text": [
      "[[1 2]\n",
      " [5 3]\n",
      " [4 6]]\n",
      "[5 6]\n",
      "[2 5 6]\n"
     ]
    }
   ],
   "source": [
    "data = np.array([[1, 2], [5, 3], [4, 6]])\n",
    "print(data)\n",
    "print(data.max(axis=0)) # only in the first column\n",
    "print(data.max(axis=1)) # max of (1, 2), max of(5, 3), max of (4, 6)"
   ]
  },
  {
   "cell_type": "markdown",
   "id": "da0da8cd",
   "metadata": {},
   "source": [
    "Addition of two matrices..."
   ]
  },
  {
   "cell_type": "code",
   "execution_count": null,
   "id": "cc75bac7",
   "metadata": {},
   "outputs": [
    {
     "name": "stdout",
     "output_type": "stream",
     "text": [
      "[[2 3]\n",
      " [4 5]]\n",
      "[[2 3]\n",
      " [4 5]\n",
      " [6 7]]\n"
     ]
    }
   ],
   "source": [
    "data = np.array([[1, 2], [3, 4]])\n",
    "ones = np.array([[1, 1], [1, 1]])\n",
    "print(data + ones)\n",
    "\n",
    "data = np.array([[1, 2], [3, 4], [5, 6]])\n",
    "ones_row = np.array([[1, 1]]) \n",
    "print(data + ones_row) # data + ((3x2) matrice full of 1's)"
   ]
  },
  {
   "cell_type": "code",
   "execution_count": null,
   "id": "dbb24fef",
   "metadata": {},
   "outputs": [
    {
     "name": "stdout",
     "output_type": "stream",
     "text": [
      "[[[1. 1.]\n",
      "  [1. 1.]\n",
      "  [1. 1.]]\n",
      "\n",
      " [[1. 1.]\n",
      "  [1. 1.]\n",
      "  [1. 1.]]\n",
      "\n",
      " [[1. 1.]\n",
      "  [1. 1.]\n",
      "  [1. 1.]]\n",
      "\n",
      " [[1. 1.]\n",
      "  [1. 1.]\n",
      "  [1. 1.]]]\n"
     ]
    }
   ],
   "source": [
    "a = np.ones((4, 3, 2)) # 4 blocks, 3 rows, 2 columns\n",
    "print(a)"
   ]
  },
  {
   "cell_type": "markdown",
   "id": "79d6f834",
   "metadata": {},
   "source": [
    "use of np.zeros(), np.ones(), np.random.random()"
   ]
  },
  {
   "cell_type": "code",
   "execution_count": 36,
   "id": "694cd05b",
   "metadata": {},
   "outputs": [
    {
     "name": "stdout",
     "output_type": "stream",
     "text": [
      "[[0. 0.]\n",
      " [0. 0.]\n",
      " [0. 0.]]\n",
      "[[1. 1.]\n",
      " [1. 1.]\n",
      " [1. 1.]]\n",
      "[[0.65386756 0.69722524]\n",
      " [0.70535291 0.07947389]\n",
      " [0.2302601  0.61960638]]\n"
     ]
    }
   ],
   "source": [
    "a = np.zeros((3, 2))\n",
    "print(a)\n",
    "a = np.ones((3, 2))\n",
    "print(a)\n",
    "a = np.random.random((3, 2))\n",
    "print(a)"
   ]
  },
  {
   "cell_type": "markdown",
   "id": "b089a79c",
   "metadata": {},
   "source": [
    "<h3>How to get unique items and counts</h3>\n",
    "\n",
    "This section covers np.unique(), return_index and return_counts"
   ]
  },
  {
   "cell_type": "code",
   "execution_count": 42,
   "id": "67d39531",
   "metadata": {},
   "outputs": [
    {
     "name": "stdout",
     "output_type": "stream",
     "text": [
      "The unique values: [11 12 13 14 15 16 17 18 19 20]\n",
      "The indexes of those unique values: [ 0  2  3  4  5  6  7 12 13 14]\n",
      "The count of occurances: [3 2 2 2 1 1 1 1 1 1]\n"
     ]
    }
   ],
   "source": [
    "# Operations on 1-D array\n",
    "\n",
    "a = np.array([11, 11, 12, 13, 14, 15, 16, 17, 12, 13, 11, 14, 18, 19, 20])\n",
    "unique_values = np.unique(a)\n",
    "print(f\"The unique values: {unique_values}\")\n",
    "\n",
    "unique_values, indices_list = np.unique(a, return_index=True)\n",
    "print(f\"The indexes of those unique values: {indices_list}\")\n",
    "\n",
    "unique_values, occurrence_count = np.unique(a, return_counts=True)\n",
    "print(f\"The count of occurances: {occurrence_count}\")"
   ]
  },
  {
   "cell_type": "code",
   "execution_count": 51,
   "id": "10e36f69",
   "metadata": {},
   "outputs": [
    {
     "name": "stdout",
     "output_type": "stream",
     "text": [
      "The unique values: [ 1  2  3  4  5  6  7  8  9 10 11 12]\n",
      "[[ 1  2  3  4]\n",
      " [ 5  6  7  8]\n",
      " [ 9 10 11 12]]\n",
      "[[ 1  2  3  4]\n",
      " [ 5  6  7  8]\n",
      " [ 9 10 11 12]]\n",
      "[0 1 2]\n",
      "[2 1 1]\n"
     ]
    }
   ],
   "source": [
    "# Operations on 2-D array\n",
    "\n",
    "a_2d = np.array([[1, 2, 3, 4], [5, 6, 7, 8], [9, 10, 11, 12], [1, 2, 3, 4]])\n",
    "unique_values = np.unique(a_2d)\n",
    "print(f\"The unique values: {unique_values}\")\n",
    "\n",
    "unique_rows = np.unique(a_2d, axis=0)\n",
    "print(unique_rows) # removed duplicate row\n",
    "\n",
    "unique_rows, indices, occurrence_count = np.unique(a_2d, axis=0, return_counts=True, return_index=True)\n",
    "print(unique_rows)\n",
    "\n",
    "print(indices)\n",
    "print(occurrence_count)"
   ]
  },
  {
   "cell_type": "markdown",
   "id": "780088e4",
   "metadata": {},
   "source": [
    "<h3>Transposing and reshaping a matrix</h3>\n",
    "\n",
    "This section covers arr.reshape(), arr.transpose(), arr.T"
   ]
  },
  {
   "cell_type": "code",
   "execution_count": 58,
   "id": "8f00f64e",
   "metadata": {},
   "outputs": [
    {
     "name": "stdout",
     "output_type": "stream",
     "text": [
      "[[1 2 3]\n",
      " [4 5 6]]\n",
      "[[1 2]\n",
      " [3 4]\n",
      " [5 6]]\n",
      "[[1 4]\n",
      " [2 5]\n",
      " [3 6]]\n",
      "[[1 3 5]\n",
      " [2 4 6]]\n"
     ]
    }
   ],
   "source": [
    "a = data.reshape(2, 3) # 2 rows and 3 columns \n",
    "print(a)\n",
    "\n",
    "b = data.reshape(3, 2) # 3 rows and 2 columns \n",
    "print(b)\n",
    "\n",
    "# Transpose of the matrices \n",
    "print(a.transpose()) # same column will become the same row\n",
    "print(b.transpose())"
   ]
  },
  {
   "cell_type": "markdown",
   "id": "58d6e331",
   "metadata": {},
   "source": [
    "<h3>How to reverse an array</h3>\n",
    "\n",
    "his section covers np.flip()"
   ]
  },
  {
   "cell_type": "code",
   "execution_count": null,
   "id": "0201f384",
   "metadata": {},
   "outputs": [
    {
     "name": "stdout",
     "output_type": "stream",
     "text": [
      "The reversed array: [8 7 6 5 4 3 2 1]\n",
      "[[12 11 10  9]\n",
      " [ 8  7  6  5]\n",
      " [ 4  3  2  1]]\n",
      "[[ 9 10 11 12]\n",
      " [ 5  6  7  8]\n",
      " [ 1  2  3  4]]\n",
      "[[ 4  3  2  1]\n",
      " [ 8  7  6  5]\n",
      " [12 11 10  9]]\n"
     ]
    }
   ],
   "source": [
    "# Operation on 1-D array\n",
    "arr = np.array([1, 2, 3, 4, 5, 6, 7, 8])\n",
    "reversed_array = np.flip(arr)\n",
    "print(f\"The reversed array: {reversed_array}\")\n",
    "\n",
    "# Operation on 2-D array\n",
    "arr_2d = np.array([[1, 2, 3, 4], [5, 6, 7, 8], [9, 10, 11, 12]])\n",
    "reversed_arr = np.flip(arr_2d) # Whole matrix\n",
    "print(reversed_arr)\n",
    "\n",
    "reversed_arr_rows = np.flip(arr_2d, axis=0)\n",
    "print(reversed_arr_rows) # same row\n",
    "\n",
    "reversed_arr_columns = np.flip(arr_2d, axis=1)\n",
    "print(reversed_arr_columns)"
   ]
  },
  {
   "cell_type": "markdown",
   "id": "0d53b5d0",
   "metadata": {},
   "source": [
    "<h3>Reshaping and flattening multidimensional arrays</h3>\n",
    "This section covers .flatten(), ravel()<br>\n",
    "There are two popular ways to flatten an array: .flatten() and .ravel(). The primary difference between the two is that the new array created using ravel() is actually a reference to the parent array (i.e., a “view”). This means that any changes to the new array will affect the parent array as well. Since ravel does not create a copy, it’s memory efficient.\n"
   ]
  },
  {
   "cell_type": "code",
   "execution_count": 70,
   "id": "dc1c3789",
   "metadata": {},
   "outputs": [
    {
     "name": "stdout",
     "output_type": "stream",
     "text": [
      "Example of flatten() \n",
      "[ 1  2  3  4  5  6  7  8  9 10 11 12]\n",
      "[[ 1  2  3  4]\n",
      " [ 5  6  7  8]\n",
      " [ 9 10 11 12]]\n",
      "[99  2  3  4  5  6  7  8  9 10 11 12]\n",
      "Example of ravel() \n",
      "[[98  2  3  4]\n",
      " [ 5  6  7  8]\n",
      " [ 9 10 11 12]]\n",
      "[98  2  3  4  5  6  7  8  9 10 11 12]\n"
     ]
    }
   ],
   "source": [
    "# flatten creates a new copy of the original array\n",
    "# changing values won't effect the original array\n",
    "print(\"Example of flatten() \")\n",
    "x = np.array([[1, 2, 3, 4], [5, 6, 7, 8], [9, 10, 11, 12]])\n",
    "print(x.flatten())\n",
    "\n",
    "a1 = x.flatten()\n",
    "a1[0] = 99\n",
    "print(x)  # Original array\n",
    "print(a1)  # New array\n",
    "\n",
    "# But in ravel() changing values will effect the original array\n",
    "print(\"Example of ravel() \")\n",
    "a2 = x.ravel()\n",
    "a2[0] = 98\n",
    "print(x)  # Original array\n",
    "print(a2)  # New array"
   ]
  },
  {
   "cell_type": "markdown",
   "id": "42c95a9e",
   "metadata": {},
   "source": [
    "<h3>How to access the docstring for more information</h3>"
   ]
  },
  {
   "cell_type": "code",
   "execution_count": 87,
   "id": "40933b2c",
   "metadata": {},
   "outputs": [
    {
     "name": "stdout",
     "output_type": "stream",
     "text": [
      "Help on built-in function max in module builtins:\n",
      "\n",
      "max(...)\n",
      "    max(iterable, *[, default=obj, key=func]) -> value\n",
      "    max(arg1, arg2, *args, *[, key=func]) -> value\n",
      "\n",
      "    With a single iterable argument, return its biggest item. The\n",
      "    default keyword-only argument specifies an object to return if\n",
      "    the provided iterable is empty.\n",
      "    With two or more positional arguments, return the largest argument.\n",
      "\n"
     ]
    },
    {
     "name": "stdout",
     "output_type": "stream",
     "text": [
      "\u001b[31mType:\u001b[39m        ndarray\n",
      "\u001b[31mString form:\u001b[39m [1 2 3 4 5 6]\n",
      "\u001b[31mLength:\u001b[39m      6\n",
      "\u001b[31mFile:\u001b[39m        d:\\sarthak\\vscode workshop\\jupyter notebook(ps)\\.venv\\lib\\site-packages\\numpy\\__init__.py\n",
      "\u001b[31mDocstring:\u001b[39m  \n",
      "ndarray(shape, dtype=float, buffer=None, offset=0,\n",
      "        strides=None, order=None)\n",
      "\n",
      "An array object represents a multidimensional, homogeneous array\n",
      "of fixed-size items.  An associated data-type object describes the\n",
      "format of each element in the array (its byte-order, how many bytes it\n",
      "occupies in memory, whether it is an integer, a floating point number,\n",
      "or something else, etc.)\n",
      "\n",
      "Arrays should be constructed using `array`, `zeros` or `empty` (refer\n",
      "to the See Also section below).  The parameters given here refer to\n",
      "a low-level method (`ndarray(...)`) for instantiating an array.\n",
      "\n",
      "For more information, refer to the `numpy` module and examine the\n",
      "methods and attributes of an array.\n",
      "\n",
      "Parameters\n",
      "----------\n",
      "(for the __new__ method; see Notes below)\n",
      "\n",
      "shape : tuple of ints\n",
      "    Shape of created array.\n",
      "dtype : data-type, optional\n",
      "    Any object that can be interpreted as a numpy data type.\n",
      "buffer : object exposing buffer interface, optional\n",
      "    Used to fill the array with data.\n",
      "offset : int, optional\n",
      "    Offset of array data in buffer.\n",
      "strides : tuple of ints, optional\n",
      "    Strides of data in memory.\n",
      "order : {'C', 'F'}, optional\n",
      "    Row-major (C-style) or column-major (Fortran-style) order.\n",
      "\n",
      "Attributes\n",
      "----------\n",
      "T : ndarray\n",
      "    Transpose of the array.\n",
      "data : buffer\n",
      "    The array's elements, in memory.\n",
      "dtype : dtype object\n",
      "    Describes the format of the elements in the array.\n",
      "flags : dict\n",
      "    Dictionary containing information related to memory use, e.g.,\n",
      "    'C_CONTIGUOUS', 'OWNDATA', 'WRITEABLE', etc.\n",
      "flat : numpy.flatiter object\n",
      "    Flattened version of the array as an iterator.  The iterator\n",
      "    allows assignments, e.g., ``x.flat = 3`` (See `ndarray.flat` for\n",
      "    assignment examples; TODO).\n",
      "imag : ndarray\n",
      "    Imaginary part of the array.\n",
      "real : ndarray\n",
      "    Real part of the array.\n",
      "size : int\n",
      "    Number of elements in the array.\n",
      "itemsize : int\n",
      "    The memory use of each array element in bytes.\n",
      "nbytes : int\n",
      "    The total number of bytes required to store the array data,\n",
      "    i.e., ``itemsize * size``.\n",
      "ndim : int\n",
      "    The array's number of dimensions.\n",
      "shape : tuple of ints\n",
      "    Shape of the array.\n",
      "strides : tuple of ints\n",
      "    The step-size required to move from one element to the next in\n",
      "    memory. For example, a contiguous ``(3, 4)`` array of type\n",
      "    ``int16`` in C-order has strides ``(8, 2)``.  This implies that\n",
      "    to move from element to element in memory requires jumps of 2 bytes.\n",
      "    To move from row-to-row, one needs to jump 8 bytes at a time\n",
      "    (``2 * 4``).\n",
      "ctypes : ctypes object\n",
      "    Class containing properties of the array needed for interaction\n",
      "    with ctypes.\n",
      "base : ndarray\n",
      "    If the array is a view into another array, that array is its `base`\n",
      "    (unless that array is also a view).  The `base` array is where the\n",
      "    array data is actually stored.\n",
      "\n",
      "See Also\n",
      "--------\n",
      "array : Construct an array.\n",
      "zeros : Create an array, each element of which is zero.\n",
      "empty : Create an array, but leave its allocated memory unchanged (i.e.,\n",
      "        it contains \"garbage\").\n",
      "dtype : Create a data-type.\n",
      "numpy.typing.NDArray : An ndarray alias :term:`generic <generic type>`\n",
      "                       w.r.t. its `dtype.type <numpy.dtype.type>`.\n",
      "\n",
      "Notes\n",
      "-----\n",
      "There are two modes of creating an array using ``__new__``:\n",
      "\n",
      "1. If `buffer` is None, then only `shape`, `dtype`, and `order`\n",
      "   are used.\n",
      "2. If `buffer` is an object exposing the buffer interface, then\n",
      "   all keywords are interpreted.\n",
      "\n",
      "No ``__init__`` method is needed because the array is fully initialized\n",
      "after the ``__new__`` method.\n",
      "\n",
      "Examples\n",
      "--------\n",
      "These examples illustrate the low-level `ndarray` constructor.  Refer\n",
      "to the `See Also` section above for easier ways of constructing an\n",
      "ndarray.\n",
      "\n",
      "First mode, `buffer` is None:\n",
      "\n",
      ">>> import numpy as np\n",
      ">>> np.ndarray(shape=(2,2), dtype=float, order='F')\n",
      "array([[0.0e+000, 0.0e+000], # random\n",
      "       [     nan, 2.5e-323]])\n",
      "\n",
      "Second mode:\n",
      "\n",
      ">>> np.ndarray((2,), buffer=np.array([1,2,3]),\n",
      "...            offset=np.int_().itemsize,\n",
      "...            dtype=int) # offset = 1*itemsize, i.e. skip first element\n",
      "array([2, 3])"
     ]
    }
   ],
   "source": [
    "help(max)\n",
    "a = np.array([1, 2, 3, 4, 5, 6])\n",
    "a?\n",
    "# gain more info by len?? instead of len?"
   ]
  },
  {
   "cell_type": "markdown",
   "id": "209a4554",
   "metadata": {},
   "source": [
    "---\n",
    "\n",
    "> 📌 Made with passion by **Sarthak Dharmik**  \n",
    "> 🚀 Feel free to ⭐ the repo or suggest improvements!\n"
   ]
  }
 ],
 "metadata": {
  "kernelspec": {
   "display_name": ".venv",
   "language": "python",
   "name": "python3"
  },
  "language_info": {
   "codemirror_mode": {
    "name": "ipython",
    "version": 3
   },
   "file_extension": ".py",
   "mimetype": "text/x-python",
   "name": "python",
   "nbconvert_exporter": "python",
   "pygments_lexer": "ipython3",
   "version": "3.13.2"
  }
 },
 "nbformat": 4,
 "nbformat_minor": 5
}
